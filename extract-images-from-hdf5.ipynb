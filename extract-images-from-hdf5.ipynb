{
 "cells": [
  {
   "cell_type": "code",
   "execution_count": 1,
   "metadata": {
    "ExecuteTime": {
     "end_time": "2020-08-30T06:08:44.096978Z",
     "start_time": "2020-08-30T06:08:42.944654Z"
    }
   },
   "outputs": [
    {
     "name": "stderr",
     "output_type": "stream",
     "text": [
      "/home/yyr/anaconda3/lib/python3.7/importlib/_bootstrap.py:219: RuntimeWarning: numpy.ufunc size changed, may indicate binary incompatibility. Expected 192 from C header, got 216 from PyObject\n",
      "  return f(*args, **kwds)\n",
      "2020-08-30 11:38:44.091 | INFO     | torch_snippets.loader:Glob:158 - 29 files found at data/large*\n"
     ]
    }
   ],
   "source": [
    "%load_ext autoreload\n",
    "%autoreload 2\n",
    "from torch_snippets import *\n",
    "from utils.create_video_on_hdf5.create_content_on_hdf5 import read_hdf5_test, convert_to_yolo_format\n",
    "\n",
    "FILE_NAME_PREFIX = 'large_'\n",
    "DUMPFOLDER = 'large_vehicle_pedestrian_detection'"
   ]
  },
  {
   "cell_type": "code",
   "execution_count": 2,
   "metadata": {
    "ExecuteTime": {
     "end_time": "2020-08-30T06:08:52.930080Z",
     "start_time": "2020-08-30T06:08:52.917512Z"
    }
   },
   "outputs": [],
   "source": [
    "files = Glob(f'data/{FILE_NAME_PREFIX}*')"
   ]
  },
  {
   "cell_type": "code",
   "execution_count": 4,
   "metadata": {
    "ExecuteTime": {
     "end_time": "2020-08-30T06:10:52.253459Z",
     "start_time": "2020-08-30T06:09:56.659036Z"
    }
   },
   "outputs": [],
   "source": [
    "for filename in files:\n",
    "    try:\n",
    "        data = read_hdf5_test(filename)\n",
    "        convert_to_yolo_format(filename, f'{DUMPFOLDER}/obj')\n",
    "    except: ..."
   ]
  },
  {
   "cell_type": "code",
   "execution_count": 5,
   "metadata": {
    "ExecuteTime": {
     "end_time": "2020-08-30T06:10:57.376386Z",
     "start_time": "2020-08-30T06:10:57.351002Z"
    }
   },
   "outputs": [
    {
     "name": "stderr",
     "output_type": "stream",
     "text": [
      "2020-08-30 11:40:57.371 | INFO     | torch_snippets.loader:Glob:158 - 1520 files found at large_vehicle_pedestrian_detection/obj/*.png\n"
     ]
    }
   ],
   "source": [
    "def writelines(list_of_strings, fpath):\n",
    "    with open(fpath, 'w') as f:\n",
    "        for l in list_of_strings:\n",
    "            f.write(f'{l}\\n')\n",
    "            \n",
    "def make_train_test_split(data_folder, output_folder):\n",
    "    makedir(output_folder)\n",
    "    files = Glob(data_folder+'/*.png')\n",
    "    from sklearn.model_selection import train_test_split\n",
    "    trn_fls, val_fls = train_test_split([fname(f) for f in files])\n",
    "    writelines([f'data/obj/{f}' for f in trn_fls], f'{output_folder}/train.txt')\n",
    "    writelines([f'data/obj/{f}' for f in val_fls], f'{output_folder}/val.txt')\n",
    "    \n",
    "make_train_test_split(f'{DUMPFOLDER}/obj', f'{DUMPFOLDER}')"
   ]
  },
  {
   "cell_type": "markdown",
   "metadata": {},
   "source": [
    "### Inspect Saved Data\n",
    "\n",
    "```python\n",
    "def readlines(fpath):\n",
    "    with open(fpath, 'r') as f:\n",
    "        t = f.read().split('\\n')\n",
    "        t = [l.strip() for l in t if l.strip()!='']\n",
    "        t = [[j for j in l.split()] for l in t]\n",
    "        t = np.array([(int(a),*[float(i) for i in [b,c,d,e]]) for a,b,c,d,e in t])\n",
    "        clss, bbs = t[:,0], t[:,1:]\n",
    "        return clss, bbs\n",
    "\n",
    "items = unique(stems(f'{DUMPFOLDER}/obj'))\n",
    "item = choose(items)\n",
    "im = read(f'{DUMPFOLDER}/obj/{item}.png',1)\n",
    "h,w = im.shape[:2]\n",
    "clss, bbs = readlines(f'{DUMPFOLDER}/obj/{item}.txt')\n",
    "bbs = (bbs * np.array([w,h,w,h])).astype(np.uint32)\n",
    "show(im, bbs=bbs, sz=5)\n",
    "\n",
    "```"
   ]
  },
  {
   "cell_type": "code",
   "execution_count": null,
   "metadata": {},
   "outputs": [],
   "source": []
  }
 ],
 "metadata": {
  "kernelspec": {
   "display_name": "Python 3",
   "language": "python",
   "name": "python3"
  },
  "language_info": {
   "codemirror_mode": {
    "name": "ipython",
    "version": 3
   },
   "file_extension": ".py",
   "mimetype": "text/x-python",
   "name": "python",
   "nbconvert_exporter": "python",
   "pygments_lexer": "ipython3",
   "version": "3.7.6"
  }
 },
 "nbformat": 4,
 "nbformat_minor": 4
}
